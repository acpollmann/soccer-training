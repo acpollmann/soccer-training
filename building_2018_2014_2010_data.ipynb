{
 "cells": [
  {
   "cell_type": "code",
   "execution_count": 1,
   "metadata": {},
   "outputs": [
    {
     "name": "stderr",
     "output_type": "stream",
     "text": [
      "C:\\Users\\felip\\Anaconda3\\lib\\site-packages\\numpy\\_distributor_init.py:32: UserWarning: loaded more than 1 DLL from .libs:\n",
      "C:\\Users\\felip\\Anaconda3\\lib\\site-packages\\numpy\\.libs\\libopenblas.PYQHXLVVQ7VESDPUVUADXEVJOBGHJPAY.gfortran-win_amd64.dll\n",
      "C:\\Users\\felip\\Anaconda3\\lib\\site-packages\\numpy\\.libs\\libopenblas.TXA6YQSD3GCQQC22GEQ54J2UDCXDXHWN.gfortran-win_amd64.dll\n",
      "  stacklevel=1)\n"
     ]
    }
   ],
   "source": [
    "import pandas as pd\n",
    "import warnings\n",
    "warnings.filterwarnings(\"ignore\") # who likes warnings right?"
   ]
  },
  {
   "cell_type": "code",
   "execution_count": 2,
   "metadata": {},
   "outputs": [],
   "source": [
    "def clean_data(filename):\n",
    "    \"\"\"@args [filename] raw csv aggregated on player per team per match, to be converted on team per match\"\"\"\n",
    "    \"\"\"@returns clean df with relevant features\"\"\"\n",
    "        \n",
    "    df = pd.read_csv(filename)\n",
    "    df = df.fillna(0) # replace \"empty\" cells with 0\n",
    "    \n",
    "    year = int(filename.split(\"_\")[1].split(\".csv\")[0]) # gets just \"2018\" or \"2014\"\n",
    "    if year == 2018:\n",
    "        df[\"A_H\"] = df[\"A_Z4\"] + df[\"A_Z5\"] # 2018 data divides intensity into 5 groups instead of 3 like 2014 and 2010\n",
    "        df[\"A_L\"] = df[\"A_Z1\"] + df[\"A_Z2\"]\n",
    "    \n",
    "    relevant_features = [\"MATCH\", \"TEAM\", \"PC \", \"PA \", \"PC/PA\", \"GS\", \"S\", \"SG\", \"FC\", \"FS\", \"DC\", \"D_IN_POSS\",\n",
    "                         \"Offsides\", \"D_NOT_IN_POSS\", \"Yellow_cards\", \"Red_card\", \"A_H\", \"A_L\", \"SPRINT\", \"T_OPP_HALF\",\n",
    "                         \"T_ATT_3RD\"]\n",
    "    df = df[relevant_features]\n",
    "    \n",
    "    # Fixing some minor formatting\n",
    "    df[\"DC\"] = df[\"DC\"] / 1000 # distance from m to km\n",
    "    df[\"D_IN_POSS\"] = df[\"D_IN_POSS\"] / 1000\n",
    "    df[\"D_NOT_IN_POSS\"] = df[\"D_NOT_IN_POSS\"] / 1000\n",
    "    \n",
    "    # How to aggregate the features (mostly sum value for each player)\n",
    "    agg_method = {feat:\"sum\" for feat in relevant_features}\n",
    "    \n",
    "    # Fix features that need the mean value of all players, not the sum of each player\n",
    "    agg_method[\"PC/PA\"] = \"mean\" # pass accuracy\n",
    "    agg_method[\"A_H\"] = \"mean\" # time in high intensity (%)\n",
    "    agg_method[\"A_L\"] = \"mean\" # time in high intensity (%)\n",
    "    agg_method[\"T_OPP_HALF\"] = \"mean\" # time spent in opponent half (%)\n",
    "    agg_method[\"T_ATT_3RD\"] = \"mean\" # time spent in opponent third (near box) (%)\n",
    "    \n",
    "    # Index values just need the first because they're all the same\n",
    "    agg_method[\"MATCH\"] = \"first\"\n",
    "    agg_method[\"TEAM\"] = \"first\"\n",
    "    \n",
    "    # Perform aggregation\n",
    "    df = df.groupby([\"MATCH\", \"TEAM\"]).aggregate(agg_method)\n",
    "    \n",
    "    # Create new features and fix values\n",
    "    df[\"goals_against\"] = 0 # to be filled inside the loop below\n",
    "    df[\"WDL\"] = 0 # first assume all games tied. fixed in the loop below if needed\n",
    "\n",
    "    for i in range(1, 65): # for each of the 64 matches\n",
    "        df.loc[i, :][\"goals_against\"][0] = df.loc[i, :][\"GS\"][1] # team_0 suffers what team_2 scores\n",
    "        df.loc[i, :][\"goals_against\"][1] = df.loc[i, :][\"GS\"][0] \n",
    "        if df.loc[i, :][\"GS\"][0] > df.loc[i, :][\"GS\"][1]: # if team_1 scored more than team_2\n",
    "            df.loc[i, :][\"WDL\"][0] = 1\n",
    "            df.loc[i, :][\"WDL\"][1] = -1\n",
    "        elif df.loc[i, :][\"GS\"][0] < df.loc[i, :][\"GS\"][1]:\n",
    "            df.loc[i, :][\"WDL\"][0] = -1\n",
    "            df.loc[i, :][\"WDL\"][1] = 1\n",
    "\n",
    "    df = df.rename(columns={\n",
    "        \"MATCH\":\"match\",\n",
    "        \"TEAM\":\"team\",\n",
    "        \"PC \":\"passes completed\",\n",
    "        \"PA \":\"total passes\",\n",
    "        \"PC/PA\":\"passes acc\",\n",
    "        \"GS\":\"goals for\",\n",
    "        \"S\":\"total shots\",\n",
    "        \"SG\":\"on-target\",\n",
    "        \"FC\":\"fouls committed\",\n",
    "        \"FS\":\"fouls suffered\",\n",
    "        \"DC\":\"distance\",\n",
    "        \"D_IN_POSS\":\"distance poss\",\n",
    "        \"D_NOT_IN_POSS\":\"distance not poss\",\n",
    "        \"Offsides\":\"offsides\",\n",
    "        \"Yellow_cards\":\"yellow\",\n",
    "        \"Red_card\":\"red\",\n",
    "        \"A_H\":\"high intensity\",\n",
    "        \"A_L\":\"low intensity\",\n",
    "        \"SPRINT\":\"sprints\",\n",
    "        \"T_OPP_HALF\":\"time opp half\",\n",
    "        \"T_ATT_3RD\":\"time opp third\"\n",
    "    }) # missing corners and posession, need to get those manually!\n",
    "    \n",
    "    df[\"year\"] = year\n",
    "\n",
    "    return df"
   ]
  },
  {
   "cell_type": "code",
   "execution_count": 3,
   "metadata": {},
   "outputs": [],
   "source": [
    "games_18 = clean_data(\"raw_2018.csv\")\n",
    "games_14 = clean_data(\"raw_2014.csv\")\n",
    "games_10 = clean_data(\"raw_2010.csv\")"
   ]
  }
 ],
 "metadata": {
  "kernelspec": {
   "display_name": "Python 3",
   "language": "python",
   "name": "python3"
  },
  "language_info": {
   "codemirror_mode": {
    "name": "ipython",
    "version": 3
   },
   "file_extension": ".py",
   "mimetype": "text/x-python",
   "name": "python",
   "nbconvert_exporter": "python",
   "pygments_lexer": "ipython3",
   "version": "3.7.1"
  }
 },
 "nbformat": 4,
 "nbformat_minor": 2
}
